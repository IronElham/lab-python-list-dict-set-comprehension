{
 "cells": [
  {
   "cell_type": "markdown",
   "id": "25d7736c-ba17-4aff-b6bb-66eba20fbf4e",
   "metadata": {},
   "source": [
    "# Lab | List, Dict and Set Comprehension"
   ]
  },
  {
   "cell_type": "markdown",
   "id": "7dd3cbde-675a-4b81-92c3-f728846dbe06",
   "metadata": {},
   "source": [
    "## Exercise: Managing Customer Orders Optimized with Comprehension"
   ]
  },
  {
   "cell_type": "markdown",
   "id": "5d500160-2fb7-4777-b5e4-09d45ebaf328",
   "metadata": {},
   "source": [
    "In the previous exercise, you developed a program to manage customer orders and inventory. Now, let's take it a step further and incorporate comprehension into your code.\n",
    "\n",
    "Follow the steps below to complete the exercise:\n",
    "\n",
    "1. Review your code from the previous exercise and identify areas where you can apply comprehension to simplify and streamline your code. \n",
    "\n",
    "    - *Hint: Apply it to initialize inventory, updating the inventory and printing the updated inventory.*\n",
    "    \n",
    "    - For example, in initializing the inventory, we could have:\n",
    "    \n",
    "        ```python\n",
    "        def initialize_inventory(products):\n",
    "            inventory = {product: int(input(f\"Enter the quantity of {product}s available: \")) for product in products}\n",
    "            return inventory\n",
    "\n",
    "        ```\n",
    "<br>\n",
    "    \n",
    "    \n",
    "2. Modify the function get_customer_orders so it prompts the user to enter the number of customer orders and gathers the product names using a loop and user input. Use comprehension.\n",
    "\n",
    "3. Add a new function to calculate the total price of the customer order. For each product in customer_orders, prompt the user to enter the price of that product. Use comprehension to calculate the total price. Note: assume that the user can only have 1 unit of each product.\n",
    "\n",
    "4. Modify the update_inventory function to remove the product from the inventory if its quantity becomes zero after fulfilling the customer orders. Use comprehension to filter out the products with a quantity of zero from the inventory.\n",
    "\n",
    "5. Print the total price of the customer order.\n",
    "\n",
    "Your code should produce output similar to the following:\n",
    "\n",
    "```python\n",
    "Enter the quantity of t-shirts available:  5\n",
    "Enter the quantity of mugs available:  4\n",
    "Enter the quantity of hats available:  3\n",
    "Enter the quantity of books available:  2\n",
    "Enter the quantity of keychains available:  1\n",
    "Enter the number of customer orders:  2\n",
    "Enter the name of a product that a customer wants to order:  hat\n",
    "Enter the name of a product that a customer wants to order:  keychain\n",
    "\n",
    "Order Statistics:\n",
    "Total Products Ordered: 2\n",
    "Percentage of Unique Products Ordered: 40.0\n",
    "\n",
    "Updated Inventory:\n",
    "t-shirt: 5\n",
    "mug: 4\n",
    "hat: 2\n",
    "book: 2\n",
    "Enter the price of keychain:  5\n",
    "Enter the price of hat:  10\n",
    "Total Price: 15.0\n",
    "\n",
    "```\n"
   ]
  },
  {
   "cell_type": "code",
   "execution_count": 1,
   "id": "ff8deca8-2617-4615-baab-5e89c5c91918",
   "metadata": {},
   "outputs": [],
   "source": [
    "#updating the inventory\n",
    "def initialize_inventory (products):\n",
    "    for product in products:\n",
    "        inventory[product] = int(input(f\"Please enter quantities of your selected product {product}:\"))\n",
    "\n",
    "#prompting user to enter the number of customer orders and gathers the product names \n",
    "def get_customer_orders():\n",
    "    number_product_orders = int(input(\"Enter the number of products you want to order: \"))\n",
    "    customer_orders = {input(f\"Enter product from displayed list {products}: \") for i in range(number_product_orders)}\n",
    "    return customer_orders\n",
    "\n",
    "#Add a new function to calculate the total price of the customer order.\n",
    "def calculate_total_price(customer_orders):\n",
    "    total_price = sum(int(input(f\"Enter the price for {product}: \")) for product in customer_orders) # Use sum to calculation total price\n",
    "    return total_price"
   ]
  },
  {
   "cell_type": "code",
   "execution_count": 2,
   "id": "e8b86a9d-92b2-4e13-8875-4f9d8206ff87",
   "metadata": {},
   "outputs": [],
   "source": [
    "def calculate_order_statistics(customer_orders, products):\n",
    "    total_products_ordered = len(customer_orders)\n",
    "    percentage_unique_product_ordered = (total_products_ordered / len(products)) * 100\n",
    "    return total_products_ordered, percentage_unique_product_ordered"
   ]
  },
  {
   "cell_type": "code",
   "execution_count": 3,
   "id": "76a1fc90-009b-4e7a-8319-7cceaf7023cb",
   "metadata": {},
   "outputs": [],
   "source": [
    "# When ordered is placed, first decrease the quantity of respetive ordered product in the inventory and then remove the product from the inventory if its quantity becomes zero after fulfilling the customer orders.\n",
    "def update_inventory(customer_orders, inventory):\n",
    "    for order in customer_orders:\n",
    "        if order in inventory:\n",
    "            inventory[order] -= 1\n",
    "    inventory = {product: quantity for product, quantity in inventory.items() \n",
    "                 if quantity > 0 or product not in customer_orders}   \n",
    "    return inventory"
   ]
  },
  {
   "cell_type": "code",
   "execution_count": 4,
   "id": "8a9719f5-93dd-4c44-b4bc-b84bcc78b591",
   "metadata": {},
   "outputs": [],
   "source": [
    "products= [\"t-shirt\", \"mug\", \"hat\", \"book\", \"keychain\"]"
   ]
  },
  {
   "cell_type": "code",
   "execution_count": 5,
   "id": "3bba42cd-2a7e-431e-9ffc-4b227c78cd8b",
   "metadata": {},
   "outputs": [
    {
     "name": "stdin",
     "output_type": "stream",
     "text": [
      "Please enter quantities of your selected product t-shirt: 1\n",
      "Please enter quantities of your selected product mug: 2\n",
      "Please enter quantities of your selected product hat: 3\n",
      "Please enter quantities of your selected product book: 1\n",
      "Please enter quantities of your selected product keychain: 7\n"
     ]
    }
   ],
   "source": [
    "inventory={}\n",
    "initialize_inventory(products)"
   ]
  },
  {
   "cell_type": "code",
   "execution_count": 6,
   "id": "9986699e-02ea-4808-b42e-43331a8cc9e7",
   "metadata": {},
   "outputs": [
    {
     "name": "stdin",
     "output_type": "stream",
     "text": [
      "Enter the number of products you want to order:  3\n",
      "Enter product from displayed list ['t-shirt', 'mug', 'hat', 'book', 'keychain']:  mug\n",
      "Enter product from displayed list ['t-shirt', 'mug', 'hat', 'book', 'keychain']:  hat\n",
      "Enter product from displayed list ['t-shirt', 'mug', 'hat', 'book', 'keychain']:  book\n"
     ]
    }
   ],
   "source": [
    "customer_orders = get_customer_orders()"
   ]
  },
  {
   "cell_type": "code",
   "execution_count": 7,
   "id": "856b30aa-dc44-47ac-aaf8-dec814658ac2",
   "metadata": {},
   "outputs": [
    {
     "data": {
      "text/plain": [
       "(3, 60.0)"
      ]
     },
     "execution_count": 7,
     "metadata": {},
     "output_type": "execute_result"
    }
   ],
   "source": [
    "calculate_order_statistics(customer_orders, products)"
   ]
  },
  {
   "cell_type": "code",
   "execution_count": 8,
   "id": "fa1c055a-fba5-43a4-9d0c-a0acf9659273",
   "metadata": {},
   "outputs": [
    {
     "name": "stdout",
     "output_type": "stream",
     "text": [
      "Order Statistics:\n",
      "Total Products Ordered: 3\n",
      "Percentage of Unique Products Ordered: 60.0\n"
     ]
    }
   ],
   "source": [
    "total_products_ordered = len(customer_orders)\n",
    "percentage_unique_product_ordered = (total_products_ordered / len(products)) * 100\n",
    "print(f\"Order Statistics:\\nTotal Products Ordered: {total_products_ordered}\\nPercentage of Unique Products Ordered: {percentage_unique_product_ordered:}\")"
   ]
  },
  {
   "cell_type": "code",
   "execution_count": 9,
   "id": "f3f7bb93-c271-4905-93c3-0b8694521c47",
   "metadata": {},
   "outputs": [
    {
     "name": "stdin",
     "output_type": "stream",
     "text": [
      "Enter the number of products you want to order:  3\n",
      "Enter product from displayed list ['t-shirt', 'mug', 'hat', 'book', 'keychain']:  mug\n",
      "Enter product from displayed list ['t-shirt', 'mug', 'hat', 'book', 'keychain']:  hat\n",
      "Enter product from displayed list ['t-shirt', 'mug', 'hat', 'book', 'keychain']:  book\n",
      "Enter the price for book:  21\n",
      "Enter the price for hat:  5\n",
      "Enter the price for mug:  3\n"
     ]
    },
    {
     "name": "stdout",
     "output_type": "stream",
     "text": [
      "Total price of your order is: $29\n"
     ]
    }
   ],
   "source": [
    "orders = get_customer_orders()\n",
    "total = calculate_total_price(orders)\n",
    "print(f\"Total price of your order is: ${total:}\")"
   ]
  },
  {
   "cell_type": "code",
   "execution_count": 10,
   "id": "17c5a4b8-fdd0-4798-9087-788abefe3346",
   "metadata": {},
   "outputs": [
    {
     "data": {
      "text/plain": [
       "{'t-shirt': 1, 'mug': 1, 'hat': 2, 'keychain': 7}"
      ]
     },
     "execution_count": 10,
     "metadata": {},
     "output_type": "execute_result"
    }
   ],
   "source": [
    "update_inventory(customer_orders, inventory)"
   ]
  }
 ],
 "metadata": {
  "kernelspec": {
   "display_name": "Python 3 (ipykernel)",
   "language": "python",
   "name": "python3"
  },
  "language_info": {
   "codemirror_mode": {
    "name": "ipython",
    "version": 3
   },
   "file_extension": ".py",
   "mimetype": "text/x-python",
   "name": "python",
   "nbconvert_exporter": "python",
   "pygments_lexer": "ipython3",
   "version": "3.12.4"
  }
 },
 "nbformat": 4,
 "nbformat_minor": 5
}
